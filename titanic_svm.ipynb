{
 "cells": [
  {
   "cell_type": "code",
   "execution_count": 33,
   "id": "894160cf",
   "metadata": {},
   "outputs": [
    {
     "name": "stdout",
     "output_type": "stream",
     "text": [
      "<class 'pandas.core.frame.DataFrame'>\n",
      "RangeIndex: 891 entries, 0 to 890\n",
      "Data columns (total 12 columns):\n",
      " #   Column       Non-Null Count  Dtype  \n",
      "---  ------       --------------  -----  \n",
      " 0   PassengerId  891 non-null    int64  \n",
      " 1   Survived     891 non-null    int64  \n",
      " 2   Pclass       891 non-null    int64  \n",
      " 3   Name         891 non-null    object \n",
      " 4   Sex          891 non-null    object \n",
      " 5   Age          714 non-null    float64\n",
      " 6   SibSp        891 non-null    int64  \n",
      " 7   Parch        891 non-null    int64  \n",
      " 8   Ticket       891 non-null    object \n",
      " 9   Fare         891 non-null    float64\n",
      " 10  Cabin        204 non-null    object \n",
      " 11  Embarked     889 non-null    object \n",
      "dtypes: float64(2), int64(5), object(5)\n",
      "memory usage: 83.7+ KB\n"
     ]
    },
    {
     "data": {
      "image/png": "[encoded data removed]",
      "text/plain": [
       "<Figure size 432x288 with 1 Axes>"
      ]
     },
     "metadata": {
      "needs_background": "light"
     },
     "output_type": "display_data"
    },
    {
     "name": "stdout",
     "output_type": "stream",
     "text": [
      "SVM Accuracy: 81.56%\n"
     ]
    }
   ],
   "source": [
    "import numpy as np\n",
    "import pandas as pd\n",
    "import matplotlib.pyplot as plt\n",
    "\n",
    "df = pd.read_csv(\"C:\\\\Users\\\\moksh\\\\OneDrive\\\\Desktop\\\\titanic.csv\")\n",
    "\n",
    "df.head()\n",
    "df.info()\n",
    "df.describe()\n",
    "\n",
    "df.drop(['PassengerId', 'Name', 'Ticket', 'Cabin'], axis=1, inplace=True)\n",
    "\n",
    "df['Age'].fillna(df['Age'].mean(), inplace=True)\n",
    "df['Embarked'].fillna(df['Embarked'].mode()[0], inplace=True)\n",
    "\n",
    "df['Sex'] = df['Sex'].map({'male': 0, 'female': 1})\n",
    "df['Embarked'] = df['Embarked'].map({'S': 0, 'C': 1, 'Q': 2})\n",
    "\n",
    "X = df.drop('Survived', axis=1).values\n",
    "y = df['Survived'].values\n",
    "\n",
    "X = (X - X.mean(axis=0)) / X.std(axis=0)\n",
    "\n",
    "X = np.c_[np.ones(X.shape[0]), X]\n",
    "\n",
    "np.random.seed(42)\n",
    "indices = np.random.permutation(X.shape[0])\n",
    "train_size = int(0.8 * X.shape[0])\n",
    "X_train = X[indices[:train_size]]\n",
    "y_train = y[indices[:train_size]]\n",
    "X_test = X[indices[train_size:]]\n",
    "y_test = y[indices[train_size:]]\n",
    "\n",
    "def cost_svm(theta, X, y, C):\n",
    "    m = X.shape[0]\n",
    "    h = X.dot(theta)\n",
    "    return (1 / 2) * theta.T.dot(theta) + C * np.sum(np.maximum(0, 1 - y * h))\n",
    "\n",
    "\n",
    "def gradient_svm(theta, X, y, C):\n",
    "    m = X.shape[0]\n",
    "    h = X.dot(theta)\n",
    "    return theta + C * X.T.dot((y * h < 1).astype(int) * -y)\n",
    "\n",
    "\n",
    "def gradient_descent_svm(X, y, C, alpha, iterations):\n",
    "    m = X.shape[0]\n",
    "    n = X.shape[1]\n",
    "    theta = np.zeros(n)\n",
    "    J_history = []\n",
    "    for i in range(iterations):\n",
    "        theta = theta - alpha * gradient_svm(theta, X, y, C)\n",
    "        J_history.append(cost_svm(theta, X, y, C))\n",
    "    return theta, J_history\n",
    "\n",
    "\n",
    "def predict_svm(theta, X):\n",
    "    h = X.dot(theta)\n",
    "    return (h >= 0).astype(int)\n",
    "\n",
    "\n",
    "def accuracy_svm(theta, X, y):\n",
    "    y_pred = predict_svm(theta, X)\n",
    "    return np.mean(y_pred == y)\n",
    "\n",
    "\n",
    "\n",
    "C = 1\n",
    "alpha = 0.001\n",
    "iterations = 2000\n",
    "theta_svm, J_history = gradient_descent_svm(X_train, y_train * 2 - 1, C, alpha, iterations)\n",
    "\n",
    "# Plotting\n",
    "\n",
    "plt.plot(range(iterations), J_history, label='SVM')\n",
    "plt.xlabel('Iterations')\n",
    "plt.ylabel('Cost')\n",
    "plt.legend()\n",
    "plt.show()\n",
    "\n",
    "\n",
    "\n",
    "acc_svm = accuracy_svm(theta_svm, X_test, y_test)\n",
    "print('SVM Accuracy: {:.2f}%'.format(acc_svm * 100))\n"
   ]
  }
 ],
 "metadata": {
  "kernelspec": {
   "display_name": "Python 3 (ipykernel)",
   "language": "python",
   "name": "python3"
  },
  "language_info": {
   "codemirror_mode": {
    "name": "ipython",
    "version": 3
   },
   "file_extension": ".py",
   "mimetype": "text/x-python",
   "name": "python",
   "nbconvert_exporter": "python",
   "pygments_lexer": "ipython3",
   "version": "3.9.12"
  }
 },
 "nbformat": 4,
 "nbformat_minor": 5
}
