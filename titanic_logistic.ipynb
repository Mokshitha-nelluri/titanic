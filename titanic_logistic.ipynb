{
 "cells": [
  {
   "cell_type": "code",
   "execution_count": 17,
   "id": "d1c89248",
   "metadata": {},
   "outputs": [
    {
     "name": "stdout",
     "output_type": "stream",
     "text": [
      "Accuracy:  61.61616161616161\n",
      "Confusion Matrix:  [[549   0]\n",
      " [342   0]]\n"
     ]
    },
    {
     "name": "stderr",
     "output_type": "stream",
     "text": [
      "C:\\Users\\moksh\\AppData\\Local\\Temp\\ipykernel_23808\\3313491692.py:36: SettingWithCopyWarning: \n",
      "A value is trying to be set on a copy of a slice from a DataFrame.\n",
      "Try using .loc[row_indexer,col_indexer] = value instead\n",
      "\n",
      "See the caveats in the documentation: https://pandas.pydata.org/pandas-docs/stable/user_guide/indexing.html#returning-a-view-versus-a-copy\n",
      "  X['Sex'] = X['Sex'].map({'male': 0, 'female': 1})\n"
     ]
    }
   ],
   "source": [
    "import numpy as np\n",
    "import matplotlib.pyplot as plt\n",
    "from sklearn.metrics import confusion_matrix, accuracy_score\n",
    "import pandas as pd\n",
    "\n",
    "data=pd.read_csv(\"C:\\\\Users\\\\moksh\\\\OneDrive\\\\Desktop\\\\titanic.csv\")\n",
    "\n",
    "\n",
    "def sigmoid(z):\n",
    "    return 1 / (1 + np.exp(-z))\n",
    "\n",
    "def cost_function(X, y, theta):\n",
    "    m = len(y)\n",
    "    h = sigmoid(np.dot(X, theta))\n",
    "    cost = (-1 / m) * (np.dot(y.T, np.log(h)) + np.dot((1 - y).T, np.log(1 - h)))\n",
    "    return cost\n",
    "\n",
    "def gradient_descent(X, y, theta, alpha, iterations):\n",
    "    m = len(y)\n",
    "    cost_history = np.zeros(iterations)\n",
    "    for i in range(iterations):\n",
    "        theta = theta - (alpha / m) * np.dot(X.T, (sigmoid(np.dot(X, theta)) - y))\n",
    "        cost_history[i] = cost_function(X, y, theta)\n",
    "    return theta, cost_history\n",
    "\n",
    "# assuming that X contains 'Age', 'Sex', 'Fare', and 'Pclass' columns, \n",
    "# y is a binary value indicating whether a passenger survived (1) or not (0)\n",
    "# Assuming the given dataset has already been loaded into the 'data' variable\n",
    "\n",
    "X = data[['Age', 'Sex', 'Fare', 'Pclass']]\n",
    "y = data['Survived']\n",
    "\n",
    "# Converting the 'Sex' column to binary values\n",
    "X['Sex'] = X['Sex'].map({'male': 0, 'female': 1})\n",
    "\n",
    "\n",
    "\n",
    "X = (X - X.mean(axis=0)) / X.std(axis=0)\n",
    "\n",
    "# Adding a column of ones to X (bias term)\n",
    "X.insert(0, 'Ones', 1)\n",
    "\n",
    "theta = np.zeros(X.shape[1])\n",
    "alpha = 0.001\n",
    "iterations = 2000\n",
    "\n",
    "X = np.array(X.values)\n",
    "y = np.array(y.values)\n",
    "\n",
    "theta, cost_history = gradient_descent(X, y, theta, alpha, iterations)\n",
    "\n",
    "\n",
    "\n",
    "# Making predictions on the test set\n",
    "pred = [1 if p > 0.5 else 0 for p in sigmoid(np.dot(X, theta))]\n",
    "\n",
    "\n",
    "# Printing the accuracy of the model\n",
    "print(\"Accuracy: \", accuracy_score(y, pred) * 100)\n",
    "\n",
    "# Confusion Matrix\n",
    "print(\"Confusion Matrix: \", confusion_matrix(y, pred))\n",
    "\n"
   ]
  }
 ],
 "metadata": {
  "kernelspec": {
   "display_name": "Python 3 (ipykernel)",
   "language": "python",
   "name": "python3"
  },
  "language_info": {
   "codemirror_mode": {
    "name": "ipython",
    "version": 3
   },
   "file_extension": ".py",
   "mimetype": "text/x-python",
   "name": "python",
   "nbconvert_exporter": "python",
   "pygments_lexer": "ipython3",
   "version": "3.9.12"
  }
 },
 "nbformat": 4,
 "nbformat_minor": 5
}
